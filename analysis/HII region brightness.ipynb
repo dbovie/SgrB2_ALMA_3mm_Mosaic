{
 "cells": [
  {
   "cell_type": "markdown",
   "metadata": {},
   "source": [
    "# General: Brightness / Luminosity of HII regions"
   ]
  },
  {
   "cell_type": "code",
   "execution_count": 1,
   "metadata": {
    "collapsed": false
   },
   "outputs": [],
   "source": [
    "%matplotlib inline\n",
    "from astropy import units as u\n",
    "import radio_beam\n",
    "import pylab as pl\n",
    "from dust_emissivity import dust"
   ]
  },
  {
   "cell_type": "code",
   "execution_count": 2,
   "metadata": {
    "collapsed": false
   },
   "outputs": [],
   "source": [
    "def dens(Qlyc=1e45*u.s**-1, R=0.1*u.pc, alpha_b=2e-13*u.cm**3*u.s**-1):\n",
    "    return (((3 * Qlyc)/(4 * np.pi * R**3 * alpha_b))**0.5).to(u.cm**-3)\n",
    "\n",
    "def EM(Qlyc=1e45*u.s**-1, R=0.1*u.pc, alpha_b=2e-13*u.cm**3*u.s**-1):\n",
    "    return (R * (((3 * Qlyc)/(4 * np.pi * R**3 * alpha_b))**0.5)**2).to(u.cm**-6*u.pc)\n",
    "\n",
    "def tau(nu, EM, Te=7000*u.K):\n",
    "    return 3.28e-7 * (Te/(1e4*u.K))**-1.35 * (nu/u.GHz)**-2.1 * (EM/(u.cm**-6*u.pc))\n",
    "\n",
    "def Tb(Te=7000*u.K, nu=95*u.GHz, EM=EM()):\n",
    "    return Te * (1-np.exp(-tau(nu=nu, EM=EM, Te=Te)))\n",
    "    #return (8.235e-2 * (Te/(u.K))**-0.35 * (nu/u.GHz)**-2.1 * (EM/u.cm**-6/u.pc)*u.K).to(u.K)\n",
    "\n",
    "def Tb_beamdiluted(Te=7000*u.K, nu=95*u.GHz, R=0.1*u.pc, Qlyc=1e45*u.s**-1, beam=4000*u.au):\n",
    "    tb = Tb(Te=Te, nu=nu, EM=EM(R=R, Qlyc=Qlyc))\n",
    "    if beam < R:\n",
    "        return tb\n",
    "    else:\n",
    "        return (tb * (R/beam)**2).to(u.K)\n",
    "\n",
    "def Snu(Te=7000*u.K, nu=95*u.GHz, R=0.1*u.pc, Qlyc=1e45*u.s**-1, beam=4000*u.au,\n",
    "        angular_beam=0.5*u.arcsec, cfreq=90*u.GHz):\n",
    "    tb = Tb(Te=Te, nu=nu, EM=EM(R=R, Qlyc=Qlyc))\n",
    "    if beam < R:\n",
    "        return tb.to(u.mJy, u.brightness_temperature(radio_beam.Beam(angular_beam), cfreq))\n",
    "    else:\n",
    "        return (tb * (R/beam)**2).to(u.mJy, u.brightness_temperature(radio_beam.Beam(angular_beam), cfreq))\n",
    "\n",
    "def snu_dust(density=1e4*u.cm**-3, Td=40*u.K, radius=4000*u.au, distance=8.4*u.kpc, cfreq=95*u.GHz):\n",
    "    mass = (density * 2.8 * u.Da * 4/3. * radius**3).to(u.M_sun)\n",
    "    print(mass)\n",
    "    beam = radio_beam.Beam((radius/distance).to(u.arcsec,u.dimensionless_angles()))\n",
    "    flux = dust.snuofmass(nu=cfreq, mass=mass, beamomega=beam, temperature=Td, distance=distance)\n",
    "    return flux\n",
    "    "
   ]
  },
  {
   "cell_type": "markdown",
   "metadata": {},
   "source": [
    "From 4.60 + 4.61 of http://www.cv.nrao.edu/~sransom/web/Ch4.html"
   ]
  },
  {
   "cell_type": "markdown",
   "metadata": {},
   "source": [
    "$$S_{\\nu} = 4.67 \\left[1-\\exp\\left(-3.28\\times10^{-7} \\left(\\frac{T_e}{10^4 \\mathrm{K}}\\right)^{-1.35} \\left(\\frac{\\nu}{\\mathrm{GHz}}\\right)^{-2.1} \\frac{EM}{\\mathrm{cm}^{-6}\\mathrm{pc}} \\right) \\right]$$"
   ]
  },
  {
   "cell_type": "markdown",
   "metadata": {},
   "source": [
    "$$T_{B,\\nu} = T_e \\left[1-\\exp\\left(-3.28\\times10^{-7} \\left(\\frac{T_e}{10^4 \\mathrm{K}}\\right)^{-1.35} \\left(\\frac{\\nu}{\\mathrm{GHz}}\\right)^{-2.1} \\frac{EM}{\\mathrm{cm}^{-6}\\mathrm{pc}} \\right) \\right]$$"
   ]
  },
  {
   "cell_type": "markdown",
   "metadata": {},
   "source": [
    "$$EM = R n_h^2 = \\frac{3 Q_{lyc}}{4 \\pi R^2 \\alpha_b}$$"
   ]
  },
  {
   "cell_type": "markdown",
   "metadata": {},
   "source": [
    "$$Q_{lyc}(S_{\\nu})$$"
   ]
  },
  {
   "cell_type": "markdown",
   "metadata": {},
   "source": [
    "$$EM = (-3.28\\times10^{-7})^{-1} \\left(\\frac{T_e}{10^4\\mathrm{K}}\\right)^{1.35} \\left(\\frac{\\nu}{\\mathrm{GHz}}\\right)^{2.1} \\ln\\left(1-\\frac{S_{\\nu}}{4.67 \\mathrm{mJy}}\\right) \\mathrm{cm}^{-6}~\\mathrm{pc}$$"
   ]
  },
  {
   "cell_type": "markdown",
   "metadata": {},
   "source": [
    "$$EM = (-3.28\\times10^{-7})^{-1} \\left(\\frac{T_e}{10^4\\mathrm{K}}\\right)^{1.35} \\left(\\frac{\\nu}{\\mathrm{GHz}}\\right)^{2.1} \\ln\\left(1-\\frac{T_{B,\\nu}}{T_e}\\right) \\mathrm{cm}^{-6}~\\mathrm{pc}$$"
   ]
  },
  {
   "cell_type": "markdown",
   "metadata": {},
   "source": [
    "$$Q_{lyc} = \\frac{4}{3} \\pi R^2 \\alpha_b (-3.28\\times10^{-7})^{-1} \\left(\\frac{T_e}{10^4\\mathrm{K}}\\right)^{1.35} \\left(\\frac{\\nu}{\\mathrm{GHz}}\\right)^{2.1} \\ln\\left(1-\\frac{T_{B,\\nu}}{T_e}\\right) \\mathrm{s}^{-1}$$"
   ]
  },
  {
   "cell_type": "markdown",
   "metadata": {},
   "source": [
    "$$(-3.28\\times10^{-7}) \\frac{Q_{lyc}}{ \\mathrm{s}^{-1}} \\left( \\frac{4}{3} \\pi R^2 \\alpha_b\\right)^{-1}\\left[ \\ln\\left(1-\\frac{T_{B,\\nu}}{T_e}\\right)\\right]^{-1} =  \\left(\\frac{T_e}{10^4\\mathrm{K}}\\right)^{1.35} \\left(\\frac{\\nu}{\\mathrm{GHz}}\\right)^{2.1} $$"
   ]
  },
  {
   "cell_type": "markdown",
   "metadata": {
    "collapsed": true
   },
   "source": [
    "$$S_{\\nu}(Q_{lyc})  = 4.67 \\left[1-\\exp\\left(-3.28\\times10^{-7} \\left(\\frac{T_e}{10^4 \\mathrm{K}}\\right)^{-1.35} \\left(\\frac{\\nu}{\\mathrm{GHz}}\\right)^{-2.1} \\frac{3 Q_{lyc}}{4 \\pi R^2 \\alpha_b} \\right) \\right]$$"
   ]
  },
  {
   "cell_type": "markdown",
   "metadata": {},
   "source": [
    "$$S_{\\nu}(Q_{lyc})  \\approx 4.67 \\left(3.28\\times10^{-7} \\left(\\frac{T_e}{10^4 \\mathrm{K}}\\right)^{-1.35} \\left(\\frac{\\nu}{\\mathrm{GHz}}\\right)^{-2.1} \\frac{3 Q_{lyc}}{4 \\pi R^2 \\alpha_b} \\right) $$"
   ]
  },
  {
   "cell_type": "code",
   "execution_count": 3,
   "metadata": {
    "collapsed": false
   },
   "outputs": [
    {
     "data": {
      "text/plain": [
       "<matplotlib.legend.Legend at 0x1164585c0>"
      ]
     },
     "execution_count": 3,
     "metadata": {},
     "output_type": "execute_result"
    },
    {
     "data": {
      "image/png": "[encoded data removed]",
      "text/plain": [
       "<matplotlib.figure.Figure at 0x108e4c1d0>"
      ]
     },
     "metadata": {},
     "output_type": "display_data"
    }
   ],
   "source": [
    "# sanity check on the Taylor expansion... the argument of the above equation must be <0.1\n",
    "x = np.logspace(-6,1)\n",
    "pl.loglog(x,(x-(1-np.exp(-x))), label='diff')\n",
    "pl.loglog(x,(1-np.exp(-x)), label='approx')\n",
    "pl.loglog(x,x, label='exact', alpha=0.5)\n",
    "pl.legend(loc='best')"
   ]
  },
  {
   "cell_type": "code",
   "execution_count": 4,
   "metadata": {
    "collapsed": false
   },
   "outputs": [
    {
     "name": "stdout",
     "output_type": "stream",
     "text": [
      "10.016977058354762 solMass\n"
     ]
    },
    {
     "data": {
      "text/latex": [
       "$0.56251278 \\; \\mathrm{mJy}$"
      ],
      "text/plain": [
       "<Quantity 0.5625127807676071 mJy>"
      ]
     },
     "execution_count": 4,
     "metadata": {},
     "output_type": "execute_result"
    }
   ],
   "source": [
    "# density corresponding to 5-sigma\n",
    "snu_dust(density=1.5e7*u.cm**-3).to(u.mJy)"
   ]
  },
  {
   "cell_type": "code",
   "execution_count": 5,
   "metadata": {
    "collapsed": false
   },
   "outputs": [
    {
     "name": "stdout",
     "output_type": "stream",
     "text": [
      "200.33954116709523 solMass\n"
     ]
    },
    {
     "data": {
      "text/latex": [
       "$10.348419 \\; \\mathrm{mJy}$"
      ],
      "text/plain": [
       "<Quantity 10.348418662538409 mJy>"
      ]
     },
     "execution_count": 5,
     "metadata": {},
     "output_type": "execute_result"
    }
   ],
   "source": [
    "# density corresponding to TOO BRIGHT\n",
    "snu_dust(density=3e8*u.cm**-3).to(u.mJy)"
   ]
  },
  {
   "cell_type": "code",
   "execution_count": 6,
   "metadata": {
    "collapsed": false
   },
   "outputs": [
    {
     "data": {
      "text/latex": [
       "$4.6707968 \\; \\mathrm{mJy}$"
      ],
      "text/plain": [
       "<Quantity 4.670796829518224 mJy>"
      ]
     },
     "execution_count": 6,
     "metadata": {},
     "output_type": "execute_result"
    }
   ],
   "source": [
    "Snu(Qlyc=1e47*u.s**-1, R=2000*u.au)"
   ]
  },
  {
   "cell_type": "code",
   "execution_count": 7,
   "metadata": {
    "collapsed": false
   },
   "outputs": [
    {
     "data": {
      "text/latex": [
       "$0.4674186 \\; \\mathrm{mJy}$"
      ],
      "text/plain": [
       "<Quantity 0.4674185963788047 mJy>"
      ]
     },
     "execution_count": 7,
     "metadata": {},
     "output_type": "execute_result"
    }
   ],
   "source": [
    "Snu(Qlyc=1e46*u.s**-1, R=2000*u.au)"
   ]
  },
  {
   "cell_type": "code",
   "execution_count": 8,
   "metadata": {
    "collapsed": false
   },
   "outputs": [
    {
     "data": {
      "text/latex": [
       "$0.45270336 \\; \\mathrm{mJy}$"
      ],
      "text/plain": [
       "<Quantity 0.45270335508004733 mJy>"
      ]
     },
     "execution_count": 8,
     "metadata": {},
     "output_type": "execute_result"
    }
   ],
   "source": [
    "Snu(Qlyc=1e46*u.s**-1, R=100*u.au)"
   ]
  },
  {
   "cell_type": "code",
   "execution_count": 9,
   "metadata": {
    "collapsed": false
   },
   "outputs": [
    {
     "data": {
      "text/plain": [
       "(<Quantity 3.445199371256059 mJy>, 6.7760525794482742)"
      ]
     },
     "execution_count": 9,
     "metadata": {},
     "output_type": "execute_result"
    }
   ],
   "source": [
    "# Quoted in paper\n",
    "Snu(Qlyc=1e47*u.s**-1, R=100*u.au), np.log10(dens(R=100*u.au, Qlyc=1e47*u.s**-1).value)"
   ]
  },
  {
   "cell_type": "code",
   "execution_count": 10,
   "metadata": {
    "collapsed": false
   },
   "outputs": [
    {
     "data": {
      "text/plain": [
       "(<Quantity 1.674882850747024 mJy>, 7.2275975729442461)"
      ]
     },
     "execution_count": 10,
     "metadata": {},
     "output_type": "execute_result"
    }
   ],
   "source": [
    "Snu(Qlyc=1e47*u.s**-1, R=50*u.au), np.log10(dens(R=50*u.au, Qlyc=1e47*u.s**-1).value)"
   ]
  },
  {
   "cell_type": "code",
   "execution_count": 11,
   "metadata": {
    "collapsed": false
   },
   "outputs": [
    {
     "data": {
      "text/plain": [
       "(<Quantity 0.4530589471555497 mJy>, 7.679142566440218)"
      ]
     },
     "execution_count": 11,
     "metadata": {},
     "output_type": "execute_result"
    }
   ],
   "source": [
    "# Quoted in paper (How small does the HII region have to be, and how dense, before O-stars can be hidden?)\n",
    "Snu(Qlyc=1e47*u.s**-1, R=25*u.au), np.log10(dens(R=25*u.au, Qlyc=1e47*u.s**-1).value)"
   ]
  },
  {
   "cell_type": "code",
   "execution_count": 12,
   "metadata": {
    "collapsed": false
   },
   "outputs": [
    {
     "data": {
      "text/plain": [
       "(<Quantity 0.453073921991188 mJy>, 8.179142566440218)"
      ]
     },
     "execution_count": 12,
     "metadata": {},
     "output_type": "execute_result"
    }
   ],
   "source": [
    "Snu(Qlyc=1e48*u.s**-1, R=25*u.au), np.log10(dens(R=25*u.au, Qlyc=1e48*u.s**-1).value)"
   ]
  },
  {
   "cell_type": "code",
   "execution_count": 13,
   "metadata": {
    "collapsed": false
   },
   "outputs": [
    {
     "data": {
      "text/plain": [
       "(<Quantity 0.2916052157054173 mJy>, 6.679142566440218)"
      ]
     },
     "execution_count": 13,
     "metadata": {},
     "output_type": "execute_result"
    }
   ],
   "source": [
    "Snu(Qlyc=1e46*u.s**-1, R=25*u.au), np.log10(dens(R=25*u.au, Qlyc=1e45*u.s**-1).value)"
   ]
  },
  {
   "cell_type": "code",
   "execution_count": 14,
   "metadata": {
    "collapsed": false
   },
   "outputs": [
    {
     "data": {
      "text/latex": [
       "$201.56489 \\; \\mathrm{\\frac{1}{cm^{3}}}$"
      ],
      "text/plain": [
       "<Quantity 201.56488712985856 1 / cm3>"
      ]
     },
     "execution_count": 14,
     "metadata": {},
     "output_type": "execute_result"
    }
   ],
   "source": [
    "dens(1e45*u.s**-1, R=0.1*u.pc)"
   ]
  },
  {
   "cell_type": "code",
   "execution_count": 15,
   "metadata": {
    "collapsed": false
   },
   "outputs": [
    {
     "name": "stdout",
     "output_type": "stream",
     "text": [
      "0.020362174606600513 pc\n"
     ]
    }
   ],
   "source": [
    "# angular size in Sgr B2\n",
    "distance = 8.4*u.kpc\n",
    "R = (0.5*u.arcsec * distance).to(u.pc, u.dimensionless_angles())\n",
    "print(R)"
   ]
  },
  {
   "cell_type": "code",
   "execution_count": 16,
   "metadata": {
    "collapsed": false
   },
   "outputs": [
    {
     "data": {
      "text/latex": [
       "$0.54166006 \\; \\mathrm{K}$"
      ],
      "text/plain": [
       "<Quantity 0.5416600646158332 K>"
      ]
     },
     "execution_count": 16,
     "metadata": {},
     "output_type": "execute_result"
    }
   ],
   "source": [
    "# observed limit (approx)\n",
    "beam = radio_beam.Beam(0.5*u.arcsec)\n",
    "cfreq = 95*u.GHz\n",
    "(1*u.mJy).to(u.K, u.brightness_temperature(beam, cfreq))"
   ]
  },
  {
   "cell_type": "code",
   "execution_count": 17,
   "metadata": {
    "collapsed": false
   },
   "outputs": [
    {
     "data": {
      "text/latex": [
       "$2193.7071 \\; \\mathrm{\\frac{1}{cm^{3}}}$"
      ],
      "text/plain": [
       "<Quantity 2193.7071151512628 1 / cm3>"
      ]
     },
     "execution_count": 17,
     "metadata": {},
     "output_type": "execute_result"
    }
   ],
   "source": [
    "dens(1e45*u.s**-1, R=R)"
   ]
  },
  {
   "cell_type": "code",
   "execution_count": 18,
   "metadata": {
    "collapsed": false
   },
   "outputs": [
    {
     "data": {
      "text/latex": [
       "$97989.929 \\; \\mathrm{\\frac{pc}{cm^{6}}}$"
      ],
      "text/plain": [
       "<Quantity 97989.92943789548 pc / cm6>"
      ]
     },
     "execution_count": 18,
     "metadata": {},
     "output_type": "execute_result"
    }
   ],
   "source": [
    "EM(1e45*u.s**-1, R=R)"
   ]
  },
  {
   "cell_type": "code",
   "execution_count": 19,
   "metadata": {
    "collapsed": false
   },
   "outputs": [
    {
     "data": {
      "text/latex": [
       "$0.025588841 \\; \\mathrm{K}$"
      ],
      "text/plain": [
       "<Quantity 0.025588840645629496 K>"
      ]
     },
     "execution_count": 19,
     "metadata": {},
     "output_type": "execute_result"
    }
   ],
   "source": [
    "Tb(EM=EM(1e45*u.s**-1, R=R))"
   ]
  },
  {
   "cell_type": "code",
   "execution_count": 20,
   "metadata": {
    "collapsed": false
   },
   "outputs": [
    {
     "data": {
      "text/latex": [
       "$0.2558842 \\; \\mathrm{K}$"
      ],
      "text/plain": [
       "<Quantity 0.2558841971417314 K>"
      ]
     },
     "execution_count": 20,
     "metadata": {},
     "output_type": "execute_result"
    }
   ],
   "source": [
    "Tb(EM=EM(1e46*u.s**-1, R=R))"
   ]
  },
  {
   "cell_type": "code",
   "execution_count": 21,
   "metadata": {
    "collapsed": false
   },
   "outputs": [
    {
     "data": {
      "text/latex": [
       "$2.5584211 \\; \\mathrm{K}$"
      ],
      "text/plain": [
       "<Quantity 2.558421090659513 K>"
      ]
     },
     "execution_count": 21,
     "metadata": {},
     "output_type": "execute_result"
    }
   ],
   "source": [
    "Tb(EM=EM(1e47*u.s**-1, R=R))"
   ]
  },
  {
   "cell_type": "code",
   "execution_count": 22,
   "metadata": {
    "collapsed": false
   },
   "outputs": [
    {
     "data": {
      "text/latex": [
       "$[0.028210839,~0.035682322,~0.045132484,~0.057085277,~0.072203363,~0.091324805,~0.11550946,~0.14609764,~0.18478419,~0.23371217,~0.29559114,~0.37384654,~0.47280822,~0.59794834,~0.75618114,~0.95624064,~1.2091557,~1.5288467,~1.9328741,~2.443374,~3.0882255,~3.9025004,~4.9302544,~6.2267258,~7.8610102,~9.9192756,~12.508566,~15.761195,~19.839669,~24.941901,~31.306304,~39.215913,~49.000193,~61.032357,~75.719008,~93.477671,~114.69666,~139.67131,~168.51216,~201.02611,~236.58366,~274.00516,~311.52473,~346.91005,~377.80389,~402.27607,~419.42622,~429.72844,~434.82769,~436.80741] \\; \\mathrm{K}$"
      ],
      "text/plain": [
       "<Quantity [  2.82108388e-02,  3.56823219e-02,  4.51324835e-02,\n",
       "             5.70852774e-02,  7.22033632e-02,  9.13248046e-02,\n",
       "             1.15509462e-01,  1.46097637e-01,  1.84784186e-01,\n",
       "             2.33712167e-01,  2.95591139e-01,  3.73846536e-01,\n",
       "             4.72808222e-01,  5.97948335e-01,  7.56181136e-01,\n",
       "             9.56240639e-01,  1.20915569e+00,  1.52884673e+00,\n",
       "             1.93287411e+00,  2.44337398e+00,  3.08822548e+00,\n",
       "             3.90250037e+00,  4.93025437e+00,  6.22672578e+00,\n",
       "             7.86101015e+00,  9.91927562e+00,  1.25085657e+01,\n",
       "             1.57611955e+01,  1.98396687e+01,  2.49419012e+01,\n",
       "             3.13063042e+01,  3.92159134e+01,  4.90001931e+01,\n",
       "             6.10323570e+01,  7.57190078e+01,  9.34776706e+01,\n",
       "             1.14696661e+02,  1.39671314e+02,  1.68512159e+02,\n",
       "             2.01026107e+02,  2.36583664e+02,  2.74005165e+02,\n",
       "             3.11524725e+02,  3.46910050e+02,  3.77803887e+02,\n",
       "             4.02276069e+02,  4.19426217e+02,  4.29728439e+02,\n",
       "             4.34827688e+02,  4.36807414e+02] K>"
      ]
     },
     "execution_count": 22,
     "metadata": {},
     "output_type": "execute_result"
    }
   ],
   "source": [
    "Tb_beamdiluted(Qlyc=np.logspace(45,50)*u.s**-1, R=1000*u.au)"
   ]
  },
  {
   "cell_type": "code",
   "execution_count": 23,
   "metadata": {
    "collapsed": false
   },
   "outputs": [
    {
     "data": {
      "image/png": "[encoded data removed]",
      "text/plain": [
       "<matplotlib.figure.Figure at 0x117273978>"
      ]
     },
     "metadata": {},
     "output_type": "display_data"
    }
   ],
   "source": [
    "pl.figure(figsize=(16,8))\n",
    "pl.rcParams['font.size']=18\n",
    "ax1 = pl.subplot(1,2,1)\n",
    "ax2 = pl.subplot(1,2,2)\n",
    "Qlyc = np.logspace(45,48)*u.s**-1\n",
    "beam_pc = (0.5*u.arcsec * distance).to(u.pc, u.dimensionless_angles())\n",
    "for source_size in [25,50,100,200,500,4000]*u.au:\n",
    "    tb = Tb_beamdiluted(Qlyc=Qlyc, R=source_size, beam=beam_pc)\n",
    "    density = dens(Qlyc=Qlyc, R=source_size)\n",
    "\n",
    "    ax1.semilogx(Qlyc, tb, label=source_size)\n",
    "    ax2.loglog(Qlyc, density, label=source_size)\n",
    "ax1.fill_between([Qlyc[0].value, Qlyc[-1].value],\n",
    "                 [0.05*5]*2, [0.16*5]*2, color='k', alpha=0.2, zorder=-10)\n",
    "ax1.legend(loc='best')\n",
    "ax1twin = ax1.twinx()\n",
    "ax1twin.set_ylim(0, (5*u.K).to(u.mJy, u.brightness_temperature(beam, cfreq)).value)\n",
    "ax1twin.set_ylabel('Flux Density [mJy]')\n",
    "ax1.set_ylim(0,5)\n",
    "ax1.set_xlabel(\"$Q_{lyc}$ [s$^{-1}$]\")\n",
    "ax2.set_xlabel(\"$Q_{lyc}$ [s$^{-1}$]\")\n",
    "ax1.set_ylabel(\"T$_B$ [K]\")\n",
    "ax2.set_ylabel(\"n(H$_2$) [cm$^{-3}$]\")\n",
    "ax2.hlines(1.5e7, Qlyc[0].value, Qlyc[-1].value,color='k', linestyle='--')\n",
    "ax2.hlines(3e8, Qlyc[0].value, Qlyc[-1].value,color='k', linestyle=':')\n",
    "\n",
    "pl.tight_layout()\n",
    "pl.savefig(\"/Users/adam/work/sgrb2/alma/figures/HII_region_brightness.png\", bbox_inches='tight', dpi=150)"
   ]
  },
  {
   "cell_type": "code",
   "execution_count": 24,
   "metadata": {
    "collapsed": false
   },
   "outputs": [
    {
     "data": {
      "text/plain": [
       "(Beam: BMAJ=0.5 arcsec BMIN=0.5 arcsec BPA=0.0 deg, <Quantity 4000.0 AU>)"
      ]
     },
     "execution_count": 24,
     "metadata": {},
     "output_type": "execute_result"
    }
   ],
   "source": [
    "beam,source_size"
   ]
  },
  {
   "cell_type": "code",
   "execution_count": 25,
   "metadata": {
    "collapsed": false
   },
   "outputs": [
    {
     "data": {
      "text/latex": [
       "$[0.00026524041,~0.00030539659,~0.00035163222,~0.00040486771,~0.00046616282,~0.00053673771,~0.00061799732,~0.00071155925,~0.00081928602,~0.00094332212,~0.0010861367,~0.0012505727,~0.0014399036,~0.0016578983,~0.0019088963,~0.0021978943,~0.0025306451,~0.0029137728,~0.0033549042,~0.0038628207,~0.0044476333,~0.0051209835,~0.0058962755,~0.0067889428,~0.0078167552,~0.0090001729,~0.010362754,~0.011931622,~0.013738007,~0.015817869,~0.018212609,~0.020969898,~0.024144622,~0.027799977,~0.032008727,~0.03685465,~0.042434207,~0.048858461,~0.056255289,~0.064771923,~0.074577885,~0.085868357,~0.098868064,~0.11383575,~0.13106931,~0.15091175,~0.17375795,~0.20006261,~0.23034917,~0.26522033] \\; \\mathrm{K}$"
      ],
      "text/plain": [
       "<Quantity [ 0.00026524, 0.0003054 , 0.00035163, 0.00040487, 0.00046616,\n",
       "            0.00053674, 0.000618  , 0.00071156, 0.00081929, 0.00094332,\n",
       "            0.00108614, 0.00125057, 0.0014399 , 0.0016579 , 0.0019089 ,\n",
       "            0.00219789, 0.00253065, 0.00291377, 0.0033549 , 0.00386282,\n",
       "            0.00444763, 0.00512098, 0.00589628, 0.00678894, 0.00781676,\n",
       "            0.00900017, 0.01036275, 0.01193162, 0.01373801, 0.01581787,\n",
       "            0.01821261, 0.0209699 , 0.02414462, 0.02779998, 0.03200873,\n",
       "            0.03685465, 0.04243421, 0.04885846, 0.05625529, 0.06477192,\n",
       "            0.07457789, 0.08586836, 0.09886806, 0.11383575, 0.13106931,\n",
       "            0.15091175, 0.17375795, 0.20006261, 0.23034917, 0.26522033] K>"
      ]
     },
     "execution_count": 25,
     "metadata": {},
     "output_type": "execute_result"
    }
   ],
   "source": [
    "Tb_beamdiluted(Qlyc=Qlyc,R=0.1*u.pc, beam=0.2*u.pc)"
   ]
  },
  {
   "cell_type": "code",
   "execution_count": 26,
   "metadata": {
    "collapsed": false
   },
   "outputs": [
    {
     "data": {
      "text/latex": [
       "$[0.00011788463,~0.00013573182,~0.00015628099,~0.00017994121,~0.00020718347,~0.00023855009,~0.00027466547,~0.00031624855,~0.00036412712,~0.00041925427,~0.00048272742,~0.00055581011,~0.00063995717,~0.00073684369,~0.00084839838,~0.00097684191,~0.0011247312,~0.0012950102,~0.0014910685,~0.0017168092,~0.0019767259,~0.0022759927,~0.0026205669,~0.0030173079,~0.0034741134,~0.0040000769,~0.0046056683,~0.0053029429,~0.0061057809,~0.0070301639,~0.0080944928,~0.0093199545,~0.010730943,~0.012355545,~0.014226101,~0.016379845,~0.018859648,~0.021714872,~0.025002351,~0.028787521,~0.033145727,~0.038163714,~0.043941362,~0.050593665,~0.058253027,~0.067071887,~0.077225758,~0.088916714,~0.10237741,~0.1178757] \\; \\mathrm{K}$"
      ],
      "text/plain": [
       "<Quantity [ 0.00011788, 0.00013573, 0.00015628, 0.00017994, 0.00020718,\n",
       "            0.00023855, 0.00027467, 0.00031625, 0.00036413, 0.00041925,\n",
       "            0.00048273, 0.00055581, 0.00063996, 0.00073684, 0.0008484 ,\n",
       "            0.00097684, 0.00112473, 0.00129501, 0.00149107, 0.00171681,\n",
       "            0.00197673, 0.00227599, 0.00262057, 0.00301731, 0.00347411,\n",
       "            0.00400008, 0.00460567, 0.00530294, 0.00610578, 0.00703016,\n",
       "            0.00809449, 0.00931995, 0.01073094, 0.01235555, 0.0142261 ,\n",
       "            0.01637984, 0.01885965, 0.02171487, 0.02500235, 0.02878752,\n",
       "            0.03314573, 0.03816371, 0.04394136, 0.05059367, 0.05825303,\n",
       "            0.06707189, 0.07722576, 0.08891671, 0.10237741, 0.1178757 ] K>"
      ]
     },
     "execution_count": 26,
     "metadata": {},
     "output_type": "execute_result"
    }
   ],
   "source": [
    "Tb_beamdiluted(Qlyc=Qlyc,R=0.1*u.pc, beam=0.3*u.pc)"
   ]
  },
  {
   "cell_type": "code",
   "execution_count": 27,
   "metadata": {
    "collapsed": false
   },
   "outputs": [
    {
     "data": {
      "text/plain": [
       "<function __main__.Snu>"
      ]
     },
     "execution_count": 27,
     "metadata": {},
     "output_type": "execute_result"
    }
   ],
   "source": [
    "Snu"
   ]
  }
 ],
 "metadata": {
  "kernelspec": {
   "display_name": "Python 3",
   "language": "python",
   "name": "python3"
  },
  "language_info": {
   "codemirror_mode": {
    "name": "ipython",
    "version": 3
   },
   "file_extension": ".py",
   "mimetype": "text/x-python",
   "name": "python",
   "nbconvert_exporter": "python",
   "pygments_lexer": "ipython3",
   "version": "3.5.2"
  }
 },
 "nbformat": 4,
 "nbformat_minor": 0
}
